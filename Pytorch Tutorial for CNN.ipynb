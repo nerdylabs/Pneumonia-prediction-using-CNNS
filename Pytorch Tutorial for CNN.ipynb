{
 "cells": [
  {
   "cell_type": "markdown",
   "metadata": {},
   "source": [
    "# Introduction\n",
    "We are here to help you with the tutorial for pytorch implementation of CNN.\n",
    "First lets discuss about the packages imported in this notebook:\n",
    "\n",
    "1. pandas - python library for data manipulation and analysis of data\n",
    "2. numpy - python library for maths function \n",
    "3. tqdm - python library for showing the progress meter\n",
    "4. torch - pytorch framework for building high level machine learning models\n",
    "5. cv2 - opencv library from python for image loading"
   ]
  },
  {
   "cell_type": "markdown",
   "metadata": {},
   "source": [
    "# Dataset \n",
    "For this tutorial we will use the chest-xray-pneumonia dataset from kaggle.\n",
    "\n",
    "We load the data in numpy form by using the two class methods given below in the following three cells.\n",
    "Running these loads training, validation and the test datasets. \n",
    "We are aware that there is a optimized implementation for the same but we are making this for beginners. Hence, the longer implementaion "
   ]
  },
  {
   "cell_type": "code",
   "execution_count": null,
   "metadata": {
    "_cell_guid": "79c7e3d0-c299-4dcb-8224-4455121ee9b0",
    "_uuid": "d629ff2d2480ee46fbb7e2d37f6b5fab8052498a"
   },
   "outputs": [],
   "source": [
    "import pandas as pd\n",
    "import numpy as np \n",
    "import os \n",
    "from tqdm import tqdm\n",
    "import cv2\n",
    "class DataLoader():\n",
    "    Im_size = 50\n",
    "    NORMAL = '../input/chest-xray-pneumonia/chest_xray/train/NORMAL'\n",
    "    PNEUMONIA = '../input/chest-xray-pneumonia/chest_xray/train/PNEUMONIA'\n",
    "    LABELS = {NORMAL:0, PNEUMONIA:1}\n",
    "    training_data = []\n",
    "    normalcount = 0\n",
    "    viralcount = 0\n",
    "    \n",
    "    def makedata(self):\n",
    "        for label in  self.LABELS:\n",
    "            print(label)\n",
    "            for f in tqdm(os.listdir(label)):\n",
    "                if \"jpeg\" in f:\n",
    "                    try:\n",
    "                        path = os.path.join(label, f)\n",
    "                        img = cv2.imread(path, cv2.IMREAD_GRAYSCALE)\n",
    "                        img = cv2.resize(img, (self.Im_size, self.Im_size))\n",
    "                        self.training_data.append([np.array(img), np.eye(2)[self.LABELS[label]]])  # do something like print(np.eye(2)[1]), just makes one_hot \n",
    "                        #print(np.eye(2)[self.LABELS[label]])\n",
    "\n",
    "                        if label == self.NORMAL:\n",
    "                            self.normalcount += 1\n",
    "                        elif label == self.PNEUMONIA:\n",
    "                            self.viralcount += 1\n",
    "\n",
    "                    except Exception as e:\n",
    "                        pass\n",
    "        np.random.shuffle(self.training_data)\n",
    "        np.save(\"training_data.npy\", self.training_data)\n",
    "        print('Normal',dataloader.normalcount)\n",
    "        print('Pneumonia:',dataloader.viralcount)\n",
    "        \n",
    "REBUILD_DATA = True\n",
    "if REBUILD_DATA:\n",
    "    dataloader = DataLoader()\n",
    "    dataloader.makedata()"
   ]
  },
  {
   "cell_type": "code",
   "execution_count": null,
   "metadata": {},
   "outputs": [],
   "source": [
    "class ValdationData():\n",
    "    Im_size = 50\n",
    "    NORMAL = '../input/chest-xray-pneumonia/chest_xray/val/NORMAL'\n",
    "    PNEUMONIA = '../input/chest-xray-pneumonia/chest_xray/val/PNEUMONIA'\n",
    "    LABELS = {NORMAL:0, PNEUMONIA:1}\n",
    "    training_data = []\n",
    "    normalcount = 0\n",
    "    viralcount = 0\n",
    "    \n",
    "    def makedata(self):\n",
    "        for label in  self.LABELS:\n",
    "            print(label)\n",
    "            for f in tqdm(os.listdir(label)):\n",
    "                if \"jpeg\" in f:\n",
    "                    try:\n",
    "                        path = os.path.join(label, f)\n",
    "                        img = cv2.imread(path, cv2.IMREAD_GRAYSCALE)\n",
    "                        img = cv2.resize(img, (self.Im_size, self.Im_size))\n",
    "                        self.training_data.append([np.array(img), np.eye(2)[self.LABELS[label]]])  # do something like print(np.eye(2)[1]), just makes one_hot \n",
    "                        #print(np.eye(2)[self.LABELS[label]])\n",
    "\n",
    "                        if label == self.NORMAL:\n",
    "                            self.normalcount += 1\n",
    "                        elif label == self.PNEUMONIA:\n",
    "                            self.viralcount += 1\n",
    "\n",
    "                    except Exception as e:\n",
    "                        pass\n",
    "        np.random.shuffle(self.training_data)\n",
    "        np.save(\"val_data.npy\", self.training_data)\n",
    "        print('Normal',dataloader.normalcount)\n",
    "        print('Pneumonia:',dataloader.viralcount)\n",
    "REBUILD_DATA = True\n",
    "if REBUILD_DATA:\n",
    "    dataloader = ValdationData()\n",
    "    dataloader.makedata()"
   ]
  },
  {
   "cell_type": "code",
   "execution_count": null,
   "metadata": {},
   "outputs": [],
   "source": [
    "class TestData():\n",
    "    Im_size = 50\n",
    "    NORMAL = '../input/chest-xray-pneumonia/chest_xray/test/NORMAL'\n",
    "    PNEUMONIA = '../input/chest-xray-pneumonia/chest_xray/test/PNEUMONIA'\n",
    "    LABELS = {NORMAL:0, PNEUMONIA:1}\n",
    "    training_data = []\n",
    "    normalcount = 0\n",
    "    viralcount = 0\n",
    "    \n",
    "    def makedata(self):\n",
    "        for label in  self.LABELS:\n",
    "            print(label)\n",
    "            for f in tqdm(os.listdir(label)):\n",
    "                if \"jpeg\" in f:\n",
    "                    try:\n",
    "                        path = os.path.join(label, f)\n",
    "                        img = cv2.imread(path, cv2.IMREAD_GRAYSCALE)\n",
    "                        img = cv2.resize(img, (self.Im_size, self.Im_size))\n",
    "                        self.training_data.append([np.array(img), np.eye(2)[self.LABELS[label]]])  # do something like print(np.eye(2)[1]), just makes one_hot \n",
    "                        #print(np.eye(2)[self.LABELS[label]])\n",
    "\n",
    "                        if label == self.NORMAL:\n",
    "                            self.normalcount += 1\n",
    "                        elif label == self.PNEUMONIA:\n",
    "                            self.viralcount += 1\n",
    "\n",
    "                    except Exception as e:\n",
    "                        pass\n",
    "        np.random.shuffle(self.training_data)\n",
    "        np.save(\"test_data.npy\", self.training_data)\n",
    "        print('Normal',dataloader.normalcount)\n",
    "        print('Pneumonia:',dataloader.viralcount)\n",
    "REBUILD_DATA = True\n",
    "if REBUILD_DATA:\n",
    "    dataloader = TestData()\n",
    "    dataloader.makedata()"
   ]
  },
  {
   "cell_type": "markdown",
   "metadata": {},
   "source": [
    "# Training on GPU\n",
    "The code \"device = torch.device(\"cuda\" if torch.cuda.is_available() else \"cpu\")\" helps you to transfer all your required data on the GPU for faster training"
   ]
  },
  {
   "cell_type": "code",
   "execution_count": null,
   "metadata": {},
   "outputs": [],
   "source": [
    "import torch\n",
    "import torch.nn as nn\n",
    "import torch.nn.functional as F\n",
    "device = torch.device(\"cuda\" if torch.cuda.is_available() else \"cpu\")"
   ]
  },
  {
   "cell_type": "code",
   "execution_count": null,
   "metadata": {},
   "outputs": [],
   "source": [
    "trainingdata = np.load(\"training_data.npy\", allow_pickle=True)"
   ]
  },
  {
   "cell_type": "code",
   "execution_count": null,
   "metadata": {},
   "outputs": [],
   "source": [
    "trainingdata[1][0].shape"
   ]
  },
  {
   "cell_type": "code",
   "execution_count": null,
   "metadata": {},
   "outputs": [],
   "source": [
    "X = torch.Tensor([i[0] for i in trainingdata]).view(-1, 50, 50)\n",
    "X = X/255.\n",
    "y = torch.Tensor([i[1] for i in trainingdata])"
   ]
  },
  {
   "cell_type": "markdown",
   "metadata": {},
   "source": [
    "**Transfering X and Y to the GPU**"
   ]
  },
  {
   "cell_type": "code",
   "execution_count": null,
   "metadata": {},
   "outputs": [],
   "source": [
    "X = X.to(device)\n",
    "y = y.to(device)"
   ]
  },
  {
   "cell_type": "code",
   "execution_count": null,
   "metadata": {},
   "outputs": [],
   "source": [
    "valdata = np.load(\"val_data.npy\", allow_pickle=True)"
   ]
  },
  {
   "cell_type": "code",
   "execution_count": null,
   "metadata": {},
   "outputs": [],
   "source": [
    "Xval = torch.Tensor([i[0] for i in valdata]).view(-1, 50, 50)\n",
    "Xval = Xval/255.\n",
    "yval = torch.Tensor([i[1] for i in valdata])"
   ]
  },
  {
   "cell_type": "code",
   "execution_count": null,
   "metadata": {},
   "outputs": [],
   "source": [
    "Xval = Xval.to(device)\n",
    "yval= yval.to(device)"
   ]
  },
  {
   "cell_type": "code",
   "execution_count": null,
   "metadata": {},
   "outputs": [],
   "source": [
    "testdata = np.load(\"test_data.npy\", allow_pickle=True)"
   ]
  },
  {
   "cell_type": "code",
   "execution_count": null,
   "metadata": {},
   "outputs": [],
   "source": [
    "Xtest = torch.Tensor([i[0] for i in testdata]).view(-1, 50, 50)\n",
    "Xtest = Xtest/255.\n",
    "ytest = torch.Tensor([i[1] for i in testdata])"
   ]
  },
  {
   "cell_type": "code",
   "execution_count": null,
   "metadata": {},
   "outputs": [],
   "source": [
    "Xtest = Xtest.to(device)\n",
    "ytest= ytest.to(device)"
   ]
  },
  {
   "cell_type": "markdown",
   "metadata": {},
   "source": [
    "**We converted the image to gray scale and lets visualize it**"
   ]
  },
  {
   "cell_type": "code",
   "execution_count": null,
   "metadata": {},
   "outputs": [],
   "source": [
    "import matplotlib.pyplot as plt\n",
    "plt.imshow(trainingdata[1][0], cmap='gray')\n",
    "plt.show()"
   ]
  },
  {
   "cell_type": "markdown",
   "metadata": {},
   "source": [
    "# Building the Network\n"
   ]
  },
  {
   "cell_type": "code",
   "execution_count": null,
   "metadata": {},
   "outputs": [],
   "source": [
    "class Net(nn.Module):\n",
    "    def __init__(self):\n",
    "        super().__init__() # just run the init of parent class (nn.Module)\n",
    "        self.conv1 = nn.Conv2d(1, 32, 3) # input is 1 image, 32 output channels, 3x3 kernel / window\n",
    "        self.conv2 = nn.Conv2d(32, 64, 3) # input is 32, because the first layer output 32. Then we say the output will be 64 channels, 3x3 kernel / window\n",
    "        self.conv3 = nn.Conv2d(64, 128, 5)\n",
    "\n",
    "        x = torch.randn(50,50).view(-1,1,50,50)\n",
    "        self._to_linear = None\n",
    "        self.convs(x)\n",
    "\n",
    "        self.fc1 = nn.Linear(self._to_linear, 128) #flattening.\n",
    "        self.fc2 = nn.Linear(128, 2) # 512 in, 2 out because we're doing 2 classes \n",
    "\n",
    "    def convs(self, x):\n",
    "        # max pooling over 2x2\n",
    "        x = F.max_pool2d(F.relu(self.conv1(x)), kernel_size=2, stride=2)\n",
    "        x = F.max_pool2d(F.relu(self.conv2(x)), kernel_size=2, stride=2)\n",
    "        x = F.max_pool2d(F.relu(self.conv3(x)), kernel_size=2, stride=2)\n",
    "\n",
    "        if self._to_linear is None:\n",
    "            self._to_linear = x[0].shape[0]*x[0].shape[1]*x[0].shape[2]\n",
    "        return x\n",
    "\n",
    "    def forward(self, x):\n",
    "        x = self.convs(x)\n",
    "        x = x.view(-1, self._to_linear)  # .view is reshape ... this flattens X before \n",
    "        x = F.relu(self.fc1(x))\n",
    "        x = self.fc2(x) # because this is our output layer. No activation here.\n",
    "        return F.softmax(x, dim=1)\n",
    "\n",
    "\n",
    "net = Net().to(device)\n",
    "print(net)"
   ]
  },
  {
   "cell_type": "markdown",
   "metadata": {},
   "source": [
    "# Defining the Optimizer and Loss function"
   ]
  },
  {
   "cell_type": "code",
   "execution_count": null,
   "metadata": {},
   "outputs": [],
   "source": [
    "import torch.optim as optim\n",
    "\n",
    "optimizer = optim.SGD(net.parameters(), lr=0.001, momentum=0.9) #lr = learing rate \n",
    "loss_function = nn.MSELoss()"
   ]
  },
  {
   "cell_type": "markdown",
   "metadata": {},
   "source": [
    "# Training loop \n",
    "Feel free to play with the number of Epochs to see what result you get in the end"
   ]
  },
  {
   "cell_type": "code",
   "execution_count": null,
   "metadata": {},
   "outputs": [],
   "source": [
    "BATCHSIZE = 32\n",
    "\n",
    "EPOCHS = 20\n",
    "\n",
    "for epoch in range(EPOCHS):\n",
    "    for i in tqdm(range(0, len(X), BATCHSIZE)):\n",
    "        #print(i, i+BATCHSIZE)\n",
    "        batchx = X[i:i+BATCHSIZE].view(-1, 1, 50, 50)\n",
    "        batchy = y[i:i+BATCHSIZE]\n",
    "        \n",
    "        net.zero_grad()\n",
    "        outputs = net(batchx)\n",
    "        \n",
    "        loss = loss_function(outputs, batchy)\n",
    "        #net.zero_grad() # you can also use optimizer.zero_grad this helps if you are buildign a moel with 2 different optimizers\n",
    "        loss.backward()\n",
    "        optimizer.step()\n",
    "    if epoch%5 ==0:\n",
    "        print(\"The Loss is: \", loss)"
   ]
  },
  {
   "cell_type": "code",
   "execution_count": null,
   "metadata": {},
   "outputs": [],
   "source": [
    "loss"
   ]
  },
  {
   "cell_type": "markdown",
   "metadata": {},
   "source": [
    "# Training accuracy"
   ]
  },
  {
   "cell_type": "code",
   "execution_count": null,
   "metadata": {},
   "outputs": [],
   "source": [
    "correct = 0\n",
    "total = 0\n",
    "#torch.no_grad() is used to freeze all the learned parameters by the net and to use them to do some prediction \n",
    "with torch.no_grad():\n",
    "    for i in tqdm(range(len(X))):\n",
    "        realclass = torch.argmax(y[i])\n",
    "        netout = net(X[i].view(-1, 1, 50, 50))[0]\n",
    "        #netout = netout[0]\n",
    "        predictedclass = torch.argmax(netout)\n",
    "        if predictedclass == realclass:\n",
    "            correct += 1\n",
    "        total += 1\n",
    "print(\"Accuracy: \", round(correct/total, 3))"
   ]
  },
  {
   "cell_type": "markdown",
   "metadata": {},
   "source": [
    "# Validation accuracy "
   ]
  },
  {
   "cell_type": "code",
   "execution_count": null,
   "metadata": {},
   "outputs": [],
   "source": [
    "correct = 0\n",
    "total = 0\n",
    "with torch.no_grad():\n",
    "    for i in tqdm(range(len(Xval))):\n",
    "        realclass = torch.argmax(yval[i])\n",
    "        netout = net(Xval[i].view(-1, 1, 50, 50))[0]\n",
    "        #netout = netout[0]\n",
    "        predictedclass = torch.argmax(netout)\n",
    "        if predictedclass == realclass:\n",
    "            correct += 1\n",
    "        total += 1\n",
    "print(\"Accuracy: \", round(correct/total, 3))"
   ]
  },
  {
   "cell_type": "markdown",
   "metadata": {},
   "source": [
    "# Test accuracy"
   ]
  },
  {
   "cell_type": "code",
   "execution_count": null,
   "metadata": {},
   "outputs": [],
   "source": [
    "correct = 0\n",
    "total = 0\n",
    "with torch.no_grad():\n",
    "    for i in tqdm(range(len(Xtest))):\n",
    "        realclass = torch.argmax(ytest[i])\n",
    "        netout = net(Xtest[i].view(-1, 1, 50, 50))[0]\n",
    "        #netout = netout[0]\n",
    "        predictedclass = torch.argmax(netout)\n",
    "        if predictedclass == realclass:\n",
    "            correct += 1\n",
    "        total += 1\n",
    "print(\"Accuracy: \", round(correct/total, 3))"
   ]
  },
  {
   "cell_type": "markdown",
   "metadata": {},
   "source": [
    "# Thank you \n",
    "By the end of this notebook I hope you understood how to implement CNN using the famous Pytorch library.\n",
    "Feel free to play with it and build your own model with more layers and see different accuracy's that you get"
   ]
  }
 ],
 "metadata": {
  "kernelspec": {
   "display_name": "Python 3",
   "language": "python",
   "name": "python3"
  },
  "language_info": {
   "codemirror_mode": {
    "name": "ipython",
    "version": 3
   },
   "file_extension": ".py",
   "mimetype": "text/x-python",
   "name": "python",
   "nbconvert_exporter": "python",
   "pygments_lexer": "ipython3",
   "version": "3.7.6"
  }
 },
 "nbformat": 4,
 "nbformat_minor": 4
}
